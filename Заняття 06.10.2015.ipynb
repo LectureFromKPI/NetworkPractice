{
 "cells": [
  {
   "cell_type": "code",
   "execution_count": 1,
   "metadata": {
    "collapsed": false
   },
   "outputs": [],
   "source": [
    "%matplotlib inline"
   ]
  },
  {
   "cell_type": "code",
   "execution_count": 2,
   "metadata": {
    "collapsed": false
   },
   "outputs": [
    {
     "data": {
      "text/latex": [
       "$$\\text{Шукаємо апроксимант Паде для }\\tan x$$"
      ],
      "text/plain": [
       "<IPython.core.display.Math object>"
      ]
     },
     "metadata": {},
     "output_type": "display_data"
    },
    {
     "data": {
      "text/latex": [
       "$$0.00145583438705132 x^{15} + 0.00359212803657248 x^{13} + 0.0088632355299022 x^{11} + 0.0218694885361552 x^{9} + 0.053968253968254 x^{7} + 0.133333333333333 x^{5} + 0.333333333333333 x^{3} + 1.0 x$$"
      ],
      "text/plain": [
       "<IPython.core.display.Math object>"
      ]
     },
     "metadata": {},
     "output_type": "display_data"
    },
    {
     "data": {
      "text/latex": [
       "$$\\frac{- 0.0666666666666667 x^{3} + 1.0 x}{- 0.4 x^{2} + 1.0}$$"
      ],
      "text/plain": [
       "<IPython.core.display.Math object>"
      ]
     },
     "metadata": {},
     "output_type": "display_data"
    }
   ],
   "source": [
    "import sympy\n",
    "import sympy.mpmath as mpm\n",
    "from IPython.display import display, Math, Latex\n",
    "import numpy as np\n",
    "sympy.init_printing(use_latex=True)\n",
    "mpm.mp.dps = 15\n",
    "mpm.mp.pretty = True\n",
    "x = sympy.symbols('x')\n",
    "\n",
    "def output(t):\n",
    "    display(Math(sympy.latex(t)))\n",
    "    \n",
    "def texM(t):\n",
    "    display(Math(t))\n",
    "    \n",
    "def f1(x):\n",
    "    return sympy.tan(x)\n",
    "\n",
    "texM('\\\\text{Шукаємо апроксимант Паде для }\\\\tan x')\n",
    "t_taylor = mpm.taylor(f1,0,15)\n",
    "output(sympy.Poly(t_taylor[::-1], x).as_expr())\n",
    "p,q = mpm.pade(t_taylor, 3,3)\n",
    "tan15 = sympy.Poly(p[::-1], x)/sympy.Poly(q[::-1],x)\n",
    "output(tan15)"
   ]
  },
  {
   "cell_type": "code",
   "execution_count": 3,
   "metadata": {
    "collapsed": false
   },
   "outputs": [
    {
     "data": {
      "image/png": "[encoded data removed]",
      "text/plain": [
       "<matplotlib.figure.Figure at 0x7fa510fe5748>"
      ]
     },
     "metadata": {},
     "output_type": "display_data"
    }
   ],
   "source": [
    "import sympy.plotting as plt\n",
    "\n",
    "tan_range = (x,-sympy.pi/4,sympy.pi/4)\n",
    "p1 = plt.plot(tan15,tan_range, show=False, line_color='b')\n",
    "p2 = plt.plot(sympy.tan(x),tan_range, show=False, line_color='r')\n",
    "p1.extend(p2)\n",
    "p1.show()"
   ]
  },
  {
   "cell_type": "code",
   "execution_count": 4,
   "metadata": {
    "collapsed": false
   },
   "outputs": [
    {
     "data": {
      "text/latex": [
       "$$\\text{Шукаємо апроксимант Паде для }\\cfrac{1}{1+\\tan x} x$$"
      ],
      "text/plain": [
       "<IPython.core.display.Math object>"
      ]
     },
     "metadata": {},
     "output_type": "display_data"
    },
    {
     "data": {
      "text/latex": [
       "$$- 23.8523905974488 x^{15} + 18.7336220275903 x^{14} - 14.7133564378009 x^{13} + 11.5558334669446 x^{12} - 9.07595318261985 x^{11} + 7.12818342151675 x^{10} - 5.59858906525573 x^{9} + 4.3968253968254 x^{8} - 3.45396825396825 x^{7} + 2.71111111111111 x^{6} - 2.13333333333333 x^{5} + 1.66666666666667 x^{4} - 1.33333333333333 x^{3} + 1.0 x^{2} - 1.0 x + 1.0$$"
      ],
      "text/plain": [
       "<IPython.core.display.Math object>"
      ]
     },
     "metadata": {},
     "output_type": "display_data"
    },
    {
     "data": {
      "text/latex": [
       "$$\\frac{- 0.399999999999999 x^{2} + 1.0}{- 0.0666666666666682 x^{3} - 0.399999999999992 x^{2} + 1.00000000000001 x + 1.0}$$"
      ],
      "text/plain": [
       "<IPython.core.display.Math object>"
      ]
     },
     "metadata": {},
     "output_type": "display_data"
    }
   ],
   "source": [
    "\n",
    "def f2(x):\n",
    "    return 1/(1+sympy.tan(x))\n",
    "\n",
    "\n",
    "texM('\\\\text{Шукаємо апроксимант Паде для }\\\\cfrac{1}{1+\\\\tan x} x')\n",
    "t_taylor = mpm.taylor(f2,0,15)\n",
    "output(sympy.Poly(t_taylor[::-1], x).as_expr())\n",
    "p,q = mpm.pade(t_taylor, 3,3)\n",
    "tan115 = sympy.Poly(p[::-1], x)/sympy.Poly(q[::-1],x)\n",
    "output(tan115)"
   ]
  },
  {
   "cell_type": "code",
   "execution_count": 5,
   "metadata": {
    "collapsed": false
   },
   "outputs": [
    {
     "data": {
      "image/png": "[encoded data removed]",
      "text/plain": [
       "<matplotlib.figure.Figure at 0x7fa510fe5710>"
      ]
     },
     "metadata": {},
     "output_type": "display_data"
    }
   ],
   "source": [
    "tan_range = (x,0,sympy.pi/4)\n",
    "p1 = plt.plot(tan115,tan_range, show=False, line_color='b')\n",
    "p2 = plt.plot(f2(x),tan_range, show=False, line_color='r')\n",
    "p1.extend(p2)\n",
    "p1.show()"
   ]
  },
  {
   "cell_type": "code",
   "execution_count": null,
   "metadata": {
    "collapsed": true
   },
   "outputs": [],
   "source": []
  }
 ],
 "metadata": {
  "kernelspec": {
   "display_name": "Python 3",
   "language": "python",
   "name": "python3"
  },
  "language_info": {
   "codemirror_mode": {
    "name": "ipython",
    "version": 3
   },
   "file_extension": ".py",
   "mimetype": "text/x-python",
   "name": "python",
   "nbconvert_exporter": "python",
   "pygments_lexer": "ipython3",
   "version": "3.4.3"
  }
 },
 "nbformat": 4,
 "nbformat_minor": 0
}
