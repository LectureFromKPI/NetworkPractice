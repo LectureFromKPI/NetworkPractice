{
 "cells": [
  {
   "cell_type": "code",
   "execution_count": 1,
   "metadata": {
    "collapsed": true
   },
   "outputs": [],
   "source": [
    "%matplotlib inline"
   ]
  },
  {
   "cell_type": "code",
   "execution_count": 2,
   "metadata": {
    "collapsed": false
   },
   "outputs": [
    {
     "data": {
      "image/png": "[encoded data removed]",
      "text/plain": [
       "<matplotlib.figure.Figure at 0x7faaa81a6cd0>"
      ]
     },
     "metadata": {},
     "output_type": "display_data"
    },
    {
     "data": {
      "text/plain": [
       "[]"
      ]
     },
     "execution_count": 2,
     "metadata": {},
     "output_type": "execute_result"
    },
    {
     "data": {
      "image/png": "[encoded data removed]",
      "text/plain": [
       "<matplotlib.figure.Figure at 0x7faa8e16bdd0>"
      ]
     },
     "metadata": {},
     "output_type": "display_data"
    }
   ],
   "source": [
    "import matplotlib.pyplot as plt\n",
    "import itertools\n",
    "from matplotlib.lines import Line2D   \n",
    "import numpy as np\n",
    "\n",
    "def transform(el):\n",
    "    length = el[1] - el[0]\n",
    "    step = length/3\n",
    "    return [(el[0],el[0]+step),(el[1]-step, el[1])]\n",
    "\n",
    "def draw_kantor(arr):\n",
    "    for tpl in arr:\n",
    "        plt.axhline(y=1,xmin=tpl[0],xmax=tpl[1])\n",
    "    plt.show()\n",
    "    \n",
    "def get_kantor(level):\n",
    "    if level == 1:\n",
    "        return transform((0.0, 1.0))\n",
    "    else:\n",
    "        return list(itertools.chain.from_iterable(map(transform, get_kantor(level-1))))\n",
    "    \n",
    "def kantor_ladder(level):\n",
    "    kantor = get_kantor(level)\n",
    "    count = len(kantor)\n",
    "    ylevel = 0\n",
    "    xend = 0\n",
    "    counter = 0.0\n",
    "    for tpl in kantor:\n",
    "        plt.axhline(y=ylevel,xmin=xend,xmax=tpl[0])\n",
    "        xend= tpl[1]\n",
    "        counter+=1\n",
    "        ylevel = counter/count\n",
    "    \n",
    "plt.plot()\n",
    "draw_kantor(get_kantor(3))\n",
    "plt.plot()\n",
    "x_arr = np.arange(0, 1, 0.1);\n",
    "kantor_ladder(6)\n",
    "plt.plot()"
   ]
  },
  {
   "cell_type": "raw",
   "metadata": {},
   "source": []
  }
 ],
 "metadata": {
  "hide_input": false,
  "kernelspec": {
   "display_name": "Python 2",
   "language": "python",
   "name": "python2"
  },
  "language_info": {
   "codemirror_mode": {
    "name": "ipython",
    "version": 2
   },
   "file_extension": ".py",
   "mimetype": "text/x-python",
   "name": "python",
   "nbconvert_exporter": "python",
   "pygments_lexer": "ipython2",
   "version": "2.7.10"
  },
  "latex_envs": {
   "bibliofile": "biblio.bib",
   "cite_by": "apalike",
   "current_citInitial": 1,
   "eqLabelWithNumbers": true,
   "eqNumInitial": 0
  }
 },
 "nbformat": 4,
 "nbformat_minor": 0
}
